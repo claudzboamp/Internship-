{
 "cells": [
  {
   "cell_type": "code",
   "execution_count": 2,
   "id": "15c2f702",
   "metadata": {},
   "outputs": [],
   "source": [
    "import numpy as np\n",
    "\n"
   ]
  },
  {
   "cell_type": "code",
   "execution_count": 7,
   "id": "134a0d84",
   "metadata": {},
   "outputs": [
    {
     "data": {
      "text/plain": [
       "0"
      ]
     },
     "execution_count": 7,
     "metadata": {},
     "output_type": "execute_result"
    }
   ],
   "source": [
    "#Question 2  \n",
    "2//3"
   ]
  },
  {
   "cell_type": "code",
   "execution_count": 8,
   "id": "57e947aa",
   "metadata": {},
   "outputs": [
    {
     "data": {
      "text/plain": [
       "24"
      ]
     },
     "execution_count": 8,
     "metadata": {},
     "output_type": "execute_result"
    }
   ],
   "source": [
    "# Question 3\n",
    "6<<2"
   ]
  },
  {
   "cell_type": "code",
   "execution_count": 10,
   "id": "3f9dc01d",
   "metadata": {},
   "outputs": [
    {
     "data": {
      "text/plain": [
       "2"
      ]
     },
     "execution_count": 10,
     "metadata": {},
     "output_type": "execute_result"
    }
   ],
   "source": [
    "#Question 4\n",
    "6&2"
   ]
  },
  {
   "cell_type": "code",
   "execution_count": 11,
   "id": "3872bbd6",
   "metadata": {},
   "outputs": [
    {
     "data": {
      "text/plain": [
       "6"
      ]
     },
     "execution_count": 11,
     "metadata": {},
     "output_type": "execute_result"
    }
   ],
   "source": [
    "#Question 5\n",
    "6|2"
   ]
  },
  {
   "cell_type": "code",
   "execution_count": 15,
   "id": "388d42e8",
   "metadata": {},
   "outputs": [
    {
     "name": "stdout",
     "output_type": "stream",
     "text": [
      "Enter a number: 4\n",
      "The factorial of 4 is 24\n"
     ]
    }
   ],
   "source": [
    "#Question 11\n",
    "#. Write a python program to find the factorial of a number\n",
    "\n",
    "# Define a function to calculate the factorial of a number\n",
    "def factorial(n):\n",
    "  # Base case: if n is 0 or 1, return 1\n",
    "  if n == 0 or n == 1:\n",
    "    return 1\n",
    "  # Recursive case: if n is greater than 1, return n times the factorial of n-1\n",
    "  else:\n",
    "    return n * factorial(n-1)\n",
    "\n",
    "# Ask the user to enter a number\n",
    "n = int(input(\"Enter a number: \"))\n",
    "\n",
    "\n",
    "# Call the factorial function and print the result\n",
    "result = factorial(n)\n",
    "print(f\"The factorial of {n} is {result}\")\n"
   ]
  },
  {
   "cell_type": "code",
   "execution_count": 17,
   "id": "7d330768",
   "metadata": {},
   "outputs": [
    {
     "name": "stdout",
     "output_type": "stream",
     "text": [
      "Enter a number: 3\n",
      "Prime\n"
     ]
    }
   ],
   "source": [
    "#Question 12\n",
    "#Write a python program to find whether a number is prime or composite.\n",
    "\n",
    "# Define a function to check if a number is prime or composite\n",
    "def check_prime(n):\n",
    "  # A number is prime if it is only divisible by 1 and itself\n",
    "  # A number is composite if it has more than two factors\n",
    "  # A number is neither prime nor composite if it is 1 or less\n",
    "\n",
    "  # If n is 1 or less, print \"Neither prime nor composite\"\n",
    "  if n <= 1:\n",
    "    print(\"Neither prime nor composite\")\n",
    "  # If n is 2, print \"Prime\"\n",
    "  elif n == 2:\n",
    "    print(\"Prime\")\n",
    "  # If n is even and greater than 2, print \"Composite\"\n",
    "  elif n % 2 == 0:\n",
    "    print(\"Composite\")\n",
    "  # If n is odd and greater than 2, check for other factors from 3 to the square root of n\n",
    "  else:\n",
    "    # Assume n is prime until proven otherwise\n",
    "    is_prime = True\n",
    "    # Loop from 3 to the square root of n with a step of 2\n",
    "    for i in range(3, int(n**0.5) + 1, 2):\n",
    "      # If n is divisible by i, print \"Composite\" and break the loop\n",
    "      if n % i == 0:\n",
    "        print(\"Composite\")\n",
    "        is_prime = False\n",
    "        break\n",
    "    # If the loop ends without finding any factors, print \"Prime\"\n",
    "    if is_prime:\n",
    "      print(\"Prime\")\n",
    "\n",
    "# Ask the user to enter a number\n",
    "n = int(input(\"Enter a number: \"))\n",
    "\n",
    "# Call the check_prime function\n",
    "check_prime(n)\n"
   ]
  },
  {
   "cell_type": "code",
   "execution_count": 41,
   "id": "ec11bb8a",
   "metadata": {},
   "outputs": [
    {
     "name": "stdout",
     "output_type": "stream",
     "text": [
      "Enter a string: rotator\n",
      "Palindrome\n"
     ]
    }
   ],
   "source": [
    "#Question 13 \n",
    "#Write a python program to check whether a given string is palindrome or not.\n",
    "\n",
    "def check_palindrome(s):\n",
    "  # A string is palindrome if it is the same when reversed\n",
    "  \n",
    "\n",
    "  # If s is equal to its reverse, print \"Palindrome\"\n",
    "  if s == s[::-1]:\n",
    "    print(\"Palindrome\")\n",
    "  # Otherwise, print \"Not palindrome\"\n",
    "  else:\n",
    "    print(\"Not palindrome\")\n",
    "\n",
    "# Ask the user to enter a string\n",
    "s = input(\"Enter a string: \")\n",
    "\n",
    "# Call the check_palindrome function\n",
    "check_palindrome(s)\n"
   ]
  },
  {
   "cell_type": "code",
   "execution_count": 39,
   "id": "444ed038",
   "metadata": {},
   "outputs": [
    {
     "name": "stdout",
     "output_type": "stream",
     "text": [
      "Enter the first side: 40\n",
      "Enter the second side: 50\n",
      "The third side is 64.03124237432849\n"
     ]
    }
   ],
   "source": [
    "#Question 14 \n",
    "#. Write a Python program to get the third side of right-angled triangle from two given sides.\n",
    "\n",
    "import numpy as np\n",
    "\n",
    "def third_side(a, b):\n",
    " \n",
    "\n",
    "  # If both a and b are positive, assume they are the legs and find the hypotenuse\n",
    "  if a > 0 and b > 0:\n",
    "    c = math.sqrt(a**2 + b**2)\n",
    "    return c\n",
    "  # If only one of a or b is positive, assume it is a leg and find the other leg\n",
    "  elif a > 0 and b <= 0:\n",
    "    b = math.sqrt(c**2 - a**2)\n",
    "    return b\n",
    "  elif a <= 0 and b > 0:\n",
    "    a = math.sqrt(c**2 - b**2)\n",
    "    return a\n",
    "  # If both a and b are negative or zero, return an error message\n",
    "  else:\n",
    "    return \"Invalid input\"\n",
    "\n",
    "# Ask the user to enter two sides of a right-angled triangle\n",
    "a = float(input(\"Enter the first side: \"))\n",
    "b = float(input(\"Enter the second side: \"))\n",
    "\n",
    "# Call the third_side function and print the result\n",
    "result = third_side(a, b)\n",
    "print(f\"The third side is {result}\")\n",
    "\n"
   ]
  },
  {
   "cell_type": "code",
   "execution_count": 40,
   "id": "e6a3e7f4",
   "metadata": {},
   "outputs": [
    {
     "name": "stdout",
     "output_type": "stream",
     "text": [
      "Enter a string: I love swimming\n",
      "The frequency of each character in the string is:\n",
      "I: 1\n",
      " : 2\n",
      "l: 1\n",
      "o: 1\n",
      "v: 1\n",
      "e: 1\n",
      "s: 1\n",
      "w: 1\n",
      "i: 2\n",
      "m: 2\n",
      "n: 1\n",
      "g: 1\n"
     ]
    }
   ],
   "source": [
    "#Question 15 \n",
    "#Write a python program to print the frequency of each of the characters present in a given string\n",
    "\n",
    "def count_frequency(s):\n",
    "  \n",
    "  frequency = {}\n",
    "  \n",
    "  for char in s:\n",
    "  \n",
    "    if char in frequency:\n",
    "      frequency[char] += 1\n",
    "   \n",
    "    else:\n",
    "      frequency[char] = 1\n",
    " \n",
    "  return frequency\n",
    "\n",
    "\n",
    "s = input(\"Enter a string: \")\n",
    "\n",
    "\n",
    "result = count_frequency(s)\n",
    "\n",
    "\n",
    "print(\"The frequency of each character in the string is:\")\n",
    "for char, freq in result.items():\n",
    "  print(f\"{char}: {freq}\")\n",
    "\n"
   ]
  },
  {
   "cell_type": "code",
   "execution_count": null,
   "id": "436a07f1",
   "metadata": {},
   "outputs": [],
   "source": []
  },
  {
   "cell_type": "code",
   "execution_count": null,
   "id": "c8415e0b",
   "metadata": {},
   "outputs": [],
   "source": []
  }
 ],
 "metadata": {
  "kernelspec": {
   "display_name": "Python 3 (ipykernel)",
   "language": "python",
   "name": "python3"
  },
  "language_info": {
   "codemirror_mode": {
    "name": "ipython",
    "version": 3
   },
   "file_extension": ".py",
   "mimetype": "text/x-python",
   "name": "python",
   "nbconvert_exporter": "python",
   "pygments_lexer": "ipython3",
   "version": "3.10.9"
  }
 },
 "nbformat": 4,
 "nbformat_minor": 5
}
