{
 "cells": [
  {
   "cell_type": "code",
   "execution_count": 1,
   "id": "794313ca",
   "metadata": {},
   "outputs": [],
   "source": [
    "# 1, Write a Python program to replace all occurrences of a space, comma, or dot with a colon."
   ]
  },
  {
   "cell_type": "code",
   "execution_count": 2,
   "id": "2954cac7",
   "metadata": {},
   "outputs": [],
   "source": [
    "import re"
   ]
  },
  {
   "cell_type": "code",
   "execution_count": 51,
   "id": "c9593c35",
   "metadata": {},
   "outputs": [
    {
     "name": "stdout",
     "output_type": "stream",
     "text": [
      "Python:Excercises::PHP:Excercises:\n"
     ]
    }
   ],
   "source": [
    "string = 'Python Excercises, PHP Excercises.'\n",
    " \n",
    "substitute=re.sub(\"[ ,.]\", \":\", string)\n",
    "print (substitute)\n",
    "\n"
   ]
  },
  {
   "cell_type": "code",
   "execution_count": 18,
   "id": "75f9e3b8",
   "metadata": {},
   "outputs": [],
   "source": [
    "#2, Write a Python program to find all words starting with 'a' or 'e' in a given string."
   ]
  },
  {
   "cell_type": "code",
   "execution_count": 96,
   "id": "a71880f9",
   "metadata": {},
   "outputs": [
    {
     "name": "stdout",
     "output_type": "stream",
     "text": [
      "['attending', 'ersity', 'en', 'ay', 'and', 'autumn']\n"
     ]
    }
   ],
   "source": [
    "import re\n",
    "\n",
    "string = \"I will be attending a university open day in England during autumn \"\n",
    "\n",
    "pattern = \"[ae]\\w+\"\n",
    "\n",
    "list = re.findall(pattern, string)\n",
    "\n",
    "print(list)"
   ]
  },
  {
   "cell_type": "code",
   "execution_count": 84,
   "id": "60387bf2",
   "metadata": {},
   "outputs": [],
   "source": [
    "#3, Create a function in python to find all words that are at least 4 characters long in a string. \n",
    "#The use of the re.compile() method is mandatory"
   ]
  },
  {
   "cell_type": "code",
   "execution_count": 78,
   "id": "b959812f",
   "metadata": {},
   "outputs": [
    {
     "name": "stdout",
     "output_type": "stream",
     "text": [
      "['went', 'visit', 'cousin', 'Canada']\n"
     ]
    }
   ],
   "source": [
    "import re\n",
    "\n",
    "string = \"I went to visit my cousin in Canada\"\n",
    "string_pattern = r\"\\b\\w{4,}\\b\"\n",
    "\n",
    "regex_pattern = re.compile(string_pattern)\n",
    "\n",
    "result = regex_pattern.findall(string)\n",
    "print(result)"
   ]
  },
  {
   "cell_type": "code",
   "execution_count": 111,
   "id": "d88eab7d",
   "metadata": {},
   "outputs": [
    {
     "name": "stdout",
     "output_type": "stream",
     "text": [
      "['very', 'much', 'enjoy', 'going', 'the', 'watch', 'the', 'best', 'films']\n"
     ]
    }
   ],
   "source": [
    "#4, Create a function in python to find all three, four, and five character words in a string. \n",
    "#The use of the re.compile() method is mandatory\n",
    "\n",
    "string = \"I very much enjoy going to the cinema to watch the best Marvel films\"\n",
    "string_pattern = r\"\\b\\w{3,5}\\b\"\n",
    "\n",
    "regex_pattern = re.compile(string_pattern)\n",
    "\n",
    "result = regex_pattern.findall(string)\n",
    "print(result)"
   ]
  },
  {
   "cell_type": "code",
   "execution_count": 126,
   "id": "f80be38d",
   "metadata": {},
   "outputs": [
    {
     "name": "stdout",
     "output_type": "stream",
     "text": [
      "example\n",
      "hr@fliprobo\n",
      "github\n",
      "Hello\n",
      "Data\n"
     ]
    }
   ],
   "source": [
    "5# Create a function in Python to remove the parenthesis in a list of strings. \n",
    "#The use of the re.compile() method is mandatory.\n",
    "\n",
    "#Sample Text: [\"example (.com)\", \"hr@fliprobo (.com)\", \"github (.com)\", \"Hello (Data Science World)\", \"Data (Scientist)\"]\n",
    "#Expected Output:\n",
    "#example.com\n",
    "#hr@fliprobo.com\n",
    "#github.com\n",
    "#Hello Data Science World\n",
    "#Data Scientist\n",
    "\n",
    "import re\n",
    "\n",
    "strings = [\"example (.com)\", \"hr@fliprobo (.com)\", \"github (.com)\", \"Hello (Data Science World)\", \"Data (Scientist)\"]\n",
    "for string in strings:\n",
    "        print(re.sub(r\" ?\\([^)]+\\)\", \"\",string))\n",
    "   \n",
    "\n",
    "\n",
    "\n",
    "\n"
   ]
  },
  {
   "cell_type": "code",
   "execution_count": 29,
   "id": "e9cbf85a",
   "metadata": {},
   "outputs": [
    {
     "ename": "FileNotFoundError",
     "evalue": "[Errno 2] No such file or directory: 'storedtext.txt'",
     "output_type": "error",
     "traceback": [
      "\u001b[1;31m---------------------------------------------------------------------------\u001b[0m",
      "\u001b[1;31mFileNotFoundError\u001b[0m                         Traceback (most recent call last)",
      "Cell \u001b[1;32mIn[29], line 9\u001b[0m\n\u001b[0;32m      1\u001b[0m \u001b[38;5;66;03m# 6, Write a python program to remove the parenthesis area from the text stored in the text file using Regular Expression. \u001b[39;00m\n\u001b[0;32m      2\u001b[0m \u001b[38;5;66;03m#Sample Text: [\"example (.com)\", \"hr@fliprobo (.com)\", \"github (.com)\", \"Hello (Data Science World)\", \"Data (Scientist)\"]\u001b[39;00m\n\u001b[0;32m      3\u001b[0m \u001b[38;5;66;03m#Expected Output: [\"example\", \"hr@fliprobo\", \"github\", \"Hello\", \"Data\"]\u001b[39;00m\n\u001b[0;32m      4\u001b[0m \u001b[38;5;66;03m#Note- Store given sample text in the text file and then to remove the parenthesis area from the text.\u001b[39;00m\n\u001b[0;32m      7\u001b[0m \u001b[38;5;28;01mimport\u001b[39;00m \u001b[38;5;21;01mre\u001b[39;00m\n\u001b[1;32m----> 9\u001b[0m \u001b[38;5;28;01mwith\u001b[39;00m \u001b[38;5;28;43mopen\u001b[39;49m\u001b[43m(\u001b[49m\u001b[38;5;124;43m\"\u001b[39;49m\u001b[38;5;124;43mstoredtext.txt\u001b[39;49m\u001b[38;5;124;43m\"\u001b[39;49m\u001b[43m,\u001b[49m\u001b[43m \u001b[49m\u001b[38;5;124;43m\"\u001b[39;49m\u001b[38;5;124;43mr\u001b[39;49m\u001b[38;5;124;43m\"\u001b[39;49m\u001b[43m)\u001b[49m \u001b[38;5;28;01mas\u001b[39;00m f:\n\u001b[0;32m     11\u001b[0m     lines \u001b[38;5;241m=\u001b[39m f\u001b[38;5;241m.\u001b[39mreadlines()\n\u001b[0;32m     13\u001b[0m     result \u001b[38;5;241m=\u001b[39m []\n",
      "File \u001b[1;32mC:\\ProgramData\\anaconda3\\lib\\site-packages\\IPython\\core\\interactiveshell.py:282\u001b[0m, in \u001b[0;36m_modified_open\u001b[1;34m(file, *args, **kwargs)\u001b[0m\n\u001b[0;32m    275\u001b[0m \u001b[38;5;28;01mif\u001b[39;00m file \u001b[38;5;129;01min\u001b[39;00m {\u001b[38;5;241m0\u001b[39m, \u001b[38;5;241m1\u001b[39m, \u001b[38;5;241m2\u001b[39m}:\n\u001b[0;32m    276\u001b[0m     \u001b[38;5;28;01mraise\u001b[39;00m \u001b[38;5;167;01mValueError\u001b[39;00m(\n\u001b[0;32m    277\u001b[0m         \u001b[38;5;124mf\u001b[39m\u001b[38;5;124m\"\u001b[39m\u001b[38;5;124mIPython won\u001b[39m\u001b[38;5;124m'\u001b[39m\u001b[38;5;124mt let you open fd=\u001b[39m\u001b[38;5;132;01m{\u001b[39;00mfile\u001b[38;5;132;01m}\u001b[39;00m\u001b[38;5;124m by default \u001b[39m\u001b[38;5;124m\"\u001b[39m\n\u001b[0;32m    278\u001b[0m         \u001b[38;5;124m\"\u001b[39m\u001b[38;5;124mas it is likely to crash IPython. If you know what you are doing, \u001b[39m\u001b[38;5;124m\"\u001b[39m\n\u001b[0;32m    279\u001b[0m         \u001b[38;5;124m\"\u001b[39m\u001b[38;5;124myou can use builtins\u001b[39m\u001b[38;5;124m'\u001b[39m\u001b[38;5;124m open.\u001b[39m\u001b[38;5;124m\"\u001b[39m\n\u001b[0;32m    280\u001b[0m     )\n\u001b[1;32m--> 282\u001b[0m \u001b[38;5;28;01mreturn\u001b[39;00m io_open(file, \u001b[38;5;241m*\u001b[39margs, \u001b[38;5;241m*\u001b[39m\u001b[38;5;241m*\u001b[39mkwargs)\n",
      "\u001b[1;31mFileNotFoundError\u001b[0m: [Errno 2] No such file or directory: 'storedtext.txt'"
     ]
    }
   ],
   "source": [
    "# 6, Write a python program to remove the parenthesis area from the text stored in the text file using Regular Expression. \n",
    "#Sample Text: [\"example (.com)\", \"hr@fliprobo (.com)\", \"github (.com)\", \"Hello (Data Science World)\", \"Data (Scientist)\"]\n",
    "#Expected Output: [\"example\", \"hr@fliprobo\", \"github\", \"Hello\", \"Data\"]\n",
    "#Note- Store given sample text in the text file and then to remove the parenthesis area from the text.\n",
    "\n",
    "\n",
    "import re\n",
    "\n",
    "with open(\"storedtext.txt\", \"r\") as f:\n",
    "    \n",
    "    lines = f.readlines()\n",
    "   \n",
    "    result = []\n",
    "  \n",
    "    for line in lines:\n",
    "       \n",
    "        line = line.strip()\n",
    "      \n",
    "        line = re.sub(r\"\\s*\\(.+?\\)\", \"\", line)\n",
    "       \n",
    "        resuly.append(line)\n",
    "  \n",
    "    print(output)\n"
   ]
  },
  {
   "cell_type": "code",
   "execution_count": 130,
   "id": "1b800c49",
   "metadata": {},
   "outputs": [
    {
     "name": "stdout",
     "output_type": "stream",
     "text": [
      "['Importance', 'Of', 'Regular', 'Expressions', 'In', 'Python']\n"
     ]
    }
   ],
   "source": [
    "#Question 7- Write a regular expression in Python to split a string into uppercase letters.\n",
    "#Sample text: “ImportanceOfRegularExpressionsInPython”\n",
    "#Expected Output: [‘Importance’, ‘Of’, ‘Regular’, ‘Expression’, ‘In’, ‘Python’]\n",
    "\n",
    "import re\n",
    "\n",
    "string= \"ImportanceOfRegularExpressionsInPython\"\n",
    "\n",
    "print(re.findall('[A-Z][^A-Z]*', string))"
   ]
  },
  {
   "cell_type": "code",
   "execution_count": 134,
   "id": "16b1f992",
   "metadata": {},
   "outputs": [
    {
     "name": "stdout",
     "output_type": "stream",
     "text": [
      "RegularExpression  1IsAn  2ImportantTopic  3InPython\n"
     ]
    }
   ],
   "source": [
    "#8, Create a function in python to insert spaces between words starting with numbers.\n",
    "#Sample Text: “RegularExpression1IsAn2ImportantTopic3InPython\"\n",
    "#Expected Output: RegularExpression 1IsAn 2ImportantTopic 3InPython\n",
    "\n",
    "import re\n",
    "\n",
    "string =\"RegularExpression1IsAn2ImportantTopic3InPython\"\n",
    "\n",
    "def insert_spaces(string):\n",
    "    return re.sub(r\"\\b\\d+\\w*\", \" \\g<0>\", string)\n",
    "\n",
    "string ='RegularExpression 1IsAn 2ImportantTopic 3InPython'\n",
    "print(insert_spaces(string))\n"
   ]
  },
  {
   "cell_type": "code",
   "execution_count": 141,
   "id": "88bf5170",
   "metadata": {},
   "outputs": [
    {
     "name": "stdout",
     "output_type": "stream",
     "text": [
      "RegularExpression 1 IsAn 2 Important Topic 3 InPython\n"
     ]
    }
   ],
   "source": [
    "#9,Create a function in python to insert spaces between words starting with capital letters or with numbers.\n",
    "#Sample Text: \"RegularExpression1IsAn2ImportantTopic3InPython\"\n",
    "#Expected Output:  RegularExpression 1 IsAn 2 ImportantTopic 3 InPython\n",
    "\n",
    "import re\n",
    "\n",
    "string = \"RegularExpression1IsAn2ImportantTopic3InPython\"\n",
    "\n",
    "def capital_words_or_numbers_spaces(string):\n",
    "    return re.sub(r\"(\\w)([A-Z])([0-9])\", r\"\\1 \\2\", string)\n",
    "                  \n",
    "print(capital_words_or_numbers_spaces(\"RegularExpression 1 IsAn 2 Important Topic 3 InPython\"))\n",
    "\n",
    "                           \n"
   ]
  },
  {
   "cell_type": "code",
   "execution_count": 28,
   "id": "e20ec523",
   "metadata": {},
   "outputs": [
    {
     "ename": "FileNotFoundError",
     "evalue": "[Errno 2] No such file or directory: 'emailaddress.txt'",
     "output_type": "error",
     "traceback": [
      "\u001b[1;31m---------------------------------------------------------------------------\u001b[0m",
      "\u001b[1;31mFileNotFoundError\u001b[0m                         Traceback (most recent call last)",
      "Cell \u001b[1;32mIn[28], line 12\u001b[0m\n\u001b[0;32m      1\u001b[0m \u001b[38;5;66;03m#10, Write a python program to extract email address from the text stored in the text file using Regular Expression.\u001b[39;00m\n\u001b[0;32m      2\u001b[0m \u001b[38;5;66;03m#Sample Text- Hello my name is Data Science and my email address is xyz@domain.com and alternate email address is xyz.abc@sdomain.domain.com. \u001b[39;00m\n\u001b[0;32m      3\u001b[0m \u001b[38;5;66;03m#Please contact us at hr@fliprobo.com for further information. \u001b[39;00m\n\u001b[0;32m      4\u001b[0m \u001b[38;5;66;03m#Expected Output: \u001b[39;00m\n\u001b[0;32m      5\u001b[0m \u001b[38;5;66;03m#['xyz@domain.com', 'xyz.abc@sdomain.domain.com']\u001b[39;00m\n\u001b[0;32m      6\u001b[0m \u001b[38;5;66;03m#['hr@fliprobo.com'] \u001b[39;00m\n\u001b[0;32m     10\u001b[0m \u001b[38;5;28;01mimport\u001b[39;00m \u001b[38;5;21;01mre\u001b[39;00m\n\u001b[1;32m---> 12\u001b[0m \u001b[38;5;28;01mwith\u001b[39;00m \u001b[38;5;28;43mopen\u001b[39;49m\u001b[43m(\u001b[49m\u001b[38;5;124;43m\"\u001b[39;49m\u001b[38;5;124;43memailaddress.txt\u001b[39;49m\u001b[38;5;124;43m\"\u001b[39;49m\u001b[43m,\u001b[49m\u001b[43m \u001b[49m\u001b[38;5;124;43m\"\u001b[39;49m\u001b[38;5;124;43mr\u001b[39;49m\u001b[38;5;124;43m\"\u001b[39;49m\u001b[43m)\u001b[49m \u001b[38;5;28;01mas\u001b[39;00m f:\n\u001b[0;32m     13\u001b[0m     string \u001b[38;5;241m=\u001b[39m f\u001b[38;5;241m.\u001b[39mread()\n\u001b[0;32m     15\u001b[0m     pattern \u001b[38;5;241m=\u001b[39m \u001b[38;5;124mr\u001b[39m\u001b[38;5;124m\"\u001b[39m\u001b[38;5;124m\\\u001b[39m\u001b[38;5;124mw+[\u001b[39m\u001b[38;5;124m\\\u001b[39m\u001b[38;5;124mw\u001b[39m\u001b[38;5;124m\\\u001b[39m\u001b[38;5;124m.]*@\u001b[39m\u001b[38;5;124m\\\u001b[39m\u001b[38;5;124mw+\u001b[39m\u001b[38;5;124m\\\u001b[39m\u001b[38;5;124m.\u001b[39m\u001b[38;5;124m\\\u001b[39m\u001b[38;5;124mw+\u001b[39m\u001b[38;5;124m\"\u001b[39m\n",
      "File \u001b[1;32mC:\\ProgramData\\anaconda3\\lib\\site-packages\\IPython\\core\\interactiveshell.py:282\u001b[0m, in \u001b[0;36m_modified_open\u001b[1;34m(file, *args, **kwargs)\u001b[0m\n\u001b[0;32m    275\u001b[0m \u001b[38;5;28;01mif\u001b[39;00m file \u001b[38;5;129;01min\u001b[39;00m {\u001b[38;5;241m0\u001b[39m, \u001b[38;5;241m1\u001b[39m, \u001b[38;5;241m2\u001b[39m}:\n\u001b[0;32m    276\u001b[0m     \u001b[38;5;28;01mraise\u001b[39;00m \u001b[38;5;167;01mValueError\u001b[39;00m(\n\u001b[0;32m    277\u001b[0m         \u001b[38;5;124mf\u001b[39m\u001b[38;5;124m\"\u001b[39m\u001b[38;5;124mIPython won\u001b[39m\u001b[38;5;124m'\u001b[39m\u001b[38;5;124mt let you open fd=\u001b[39m\u001b[38;5;132;01m{\u001b[39;00mfile\u001b[38;5;132;01m}\u001b[39;00m\u001b[38;5;124m by default \u001b[39m\u001b[38;5;124m\"\u001b[39m\n\u001b[0;32m    278\u001b[0m         \u001b[38;5;124m\"\u001b[39m\u001b[38;5;124mas it is likely to crash IPython. If you know what you are doing, \u001b[39m\u001b[38;5;124m\"\u001b[39m\n\u001b[0;32m    279\u001b[0m         \u001b[38;5;124m\"\u001b[39m\u001b[38;5;124myou can use builtins\u001b[39m\u001b[38;5;124m'\u001b[39m\u001b[38;5;124m open.\u001b[39m\u001b[38;5;124m\"\u001b[39m\n\u001b[0;32m    280\u001b[0m     )\n\u001b[1;32m--> 282\u001b[0m \u001b[38;5;28;01mreturn\u001b[39;00m io_open(file, \u001b[38;5;241m*\u001b[39margs, \u001b[38;5;241m*\u001b[39m\u001b[38;5;241m*\u001b[39mkwargs)\n",
      "\u001b[1;31mFileNotFoundError\u001b[0m: [Errno 2] No such file or directory: 'emailaddress.txt'"
     ]
    }
   ],
   "source": [
    "#10, Write a python program to extract email address from the text stored in the text file using Regular Expression.\n",
    "#Sample Text- Hello my name is Data Science and my email address is xyz@domain.com and alternate email address is xyz.abc@sdomain.domain.com. \n",
    "#Please contact us at hr@fliprobo.com for further information. \n",
    "#Expected Output: \n",
    "#['xyz@domain.com', 'xyz.abc@sdomain.domain.com']\n",
    "#['hr@fliprobo.com'] \n",
    "\n",
    "\n",
    "\n",
    "import re\n",
    "\n",
    "with open(\"emailaddress.txt\", \"r\") as f:\n",
    "    string = f.read()\n",
    "   \n",
    "    pattern = r\"\\w+[\\w\\.]*@\\w+\\.\\w+\"\n",
    "   \n",
    "    matches = re.findall(pattern, text)\n",
    "    \n",
    "    print(matches)\n",
    "\n",
    "\n",
    "\n",
    "\n"
   ]
  },
  {
   "cell_type": "code",
   "execution_count": 148,
   "id": "73ea7980",
   "metadata": {},
   "outputs": [
    {
     "name": "stdout",
     "output_type": "stream",
     "text": [
      "Enter a stringClaudette_boa_1994_engineer\n"
     ]
    }
   ],
   "source": [
    "#11, #Write a Python program to match a string that contains only upper and lowercase letters, numbers, and underscores.\n",
    "\n",
    "import re\n",
    "\n",
    "pattern =r\"^[A-Za-z0-9_]+$\"\n",
    "\n",
    "string = input(\"Enter a string\")\n"
   ]
  },
  {
   "cell_type": "code",
   "execution_count": 150,
   "id": "5af431cc",
   "metadata": {},
   "outputs": [
    {
     "name": "stdout",
     "output_type": "stream",
     "text": [
      "The string is valid.\n"
     ]
    }
   ],
   "source": [
    "if re.match(pattern, string):\n",
    "    print(\"The string is valid.\")\n",
    "else:\n",
    "    print(\"The string is invalid.\")"
   ]
  },
  {
   "cell_type": "code",
   "execution_count": 154,
   "id": "0f651f02",
   "metadata": {},
   "outputs": [
    {
     "name": "stdout",
     "output_type": "stream",
     "text": [
      "The string starts with 7\n"
     ]
    }
   ],
   "source": [
    "#12,Write a Python program where a string will start with a specific number. \n",
    "\n",
    "string = \"7 is my lucky number and it stands for perfection\"\n",
    "if string.startswith(\"7\"):\n",
    "    print('The string starts with 7')\n",
    "else:\n",
    "        print (\"The string does not start with 7\")\n",
    "        "
   ]
  },
  {
   "cell_type": "code",
   "execution_count": 157,
   "id": "72a32d15",
   "metadata": {},
   "outputs": [
    {
     "name": "stdout",
     "output_type": "stream",
     "text": [
      "303.24.2.24\n",
      "16.1.2.22\n"
     ]
    }
   ],
   "source": [
    "#13,Write a Python program to remove leading zeros from an IP address\n",
    "\n",
    "def remove_zeros_from_ip(ip_add):\n",
    "  new_ip_add = \".\".join([str(int(i)) for i in ip_add.split(\".\")])\n",
    "  return new_ip_add\n",
    "\n",
    "print(remove_zeros_from_ip(\"303.024.02.24\"))\n",
    "print(remove_zeros_from_ip(\"016.1.2.22 \"))"
   ]
  },
  {
   "cell_type": "code",
   "execution_count": 158,
   "id": "f2b36a3e",
   "metadata": {},
   "outputs": [],
   "source": [
    "#14, Write a regular expression in python to match a date string in the form of Month name \n",
    "#followed by day number and year stored in a text file.\n",
    "#Sample text :  ' On August 15th 1947 that India was declared independent from British colonialism, and the reins of control were handed over to the leaders of the Country’.\n",
    "#Expected Output- August 15th 1947\n",
    "#Note- Store given sample text in the text file and then extract the date string asked format.\n"
   ]
  },
  {
   "cell_type": "code",
   "execution_count": 172,
   "id": "aabdcd64",
   "metadata": {},
   "outputs": [
    {
     "name": "stdout",
     "output_type": "stream",
     "text": [
      "search for \"fox\" in \"The quick brown fox jumps over the lazy dog.\" ->\n",
      "match found!\n",
      "search for \"dog\" in \"The quick brown fox jumps over the lazy dog.\" ->\n",
      "match found!\n",
      "search for \"horse\" in \"The quick brown fox jumps over the lazy dog.\" ->\n",
      "no match found!\n"
     ]
    }
   ],
   "source": [
    "#15, Write a Python program to search some literals strings in a string. \n",
    "\n",
    "import re\n",
    "literals = [ 'fox', 'dog', 'horse' ]\n",
    "string = 'The quick brown fox jumps over the lazy dog.'\n",
    "for pattern in literals:\n",
    "    print('search for \"%s\" in \"%s\" ->' % (pattern, string),)\n",
    "    if re.search(pattern,  string):\n",
    "        print('match found!')\n",
    "    else:\n",
    "        print('no match found!')"
   ]
  },
  {
   "cell_type": "code",
   "execution_count": 175,
   "id": "11bfe9c1",
   "metadata": {},
   "outputs": [
    {
     "data": {
      "text/plain": [
       "<re.Match object; span=(16, 19), match='fox'>"
      ]
     },
     "execution_count": 175,
     "metadata": {},
     "output_type": "execute_result"
    }
   ],
   "source": [
    "#16,Write a Python program to search a literals string in a string and also find the location within the original \n",
    "#string where the pattern occurs\n",
    "\n",
    "string = 'The quick brown fox jumps over the lazy dog.'\n",
    "literal = ['fox']\n",
    "\n",
    "match = re.search ('fox', string)\n",
    "match\n",
    "\n"
   ]
  },
  {
   "cell_type": "code",
   "execution_count": 177,
   "id": "66d0e296",
   "metadata": {},
   "outputs": [
    {
     "name": "stdout",
     "output_type": "stream",
     "text": [
      "7\n"
     ]
    }
   ],
   "source": [
    "#17, Write a Python program to find the substrings within a string.\n",
    "\n",
    "string = 'Python exercises, PHP exercises, C# exercises'\n",
    "pattern ='exercises'\n",
    "\n",
    "index = string.find(pattern)\n",
    "print(index)"
   ]
  },
  {
   "cell_type": "code",
   "execution_count": 179,
   "id": "e5d5b4af",
   "metadata": {},
   "outputs": [
    {
     "name": "stdout",
     "output_type": "stream",
     "text": [
      "['Python exercises', 'PHP exercises']\n"
     ]
    }
   ],
   "source": [
    "import re\n",
    "string = \"Python exercises, PHP exercises, C# exercises\"\n",
    "pattern = r\"\\w+ exercises\"\n",
    "matches = re.findall(pattern, string)\n",
    "print(matches) "
   ]
  },
  {
   "cell_type": "code",
   "execution_count": 180,
   "id": "d529b250",
   "metadata": {},
   "outputs": [
    {
     "name": "stdout",
     "output_type": "stream",
     "text": [
      "Found \"exercises\" at 7:16\n",
      "Found \"exercises\" at 22:31\n",
      "Found \"exercises\" at 36:45\n"
     ]
    }
   ],
   "source": [
    "#18, Write a Python program to find the occurrence and position of the substrings within a string.\n",
    "import re\n",
    "text = 'Python exercises, PHP exercises, C# exercises'\n",
    "pattern = 'exercises'\n",
    "for match in re.finditer(pattern, text):\n",
    "  s = match.start()\n",
    "  e = match.end()\n",
    "  print('Found \"%s\" at %d:%d' % (text[s:e], s, e))"
   ]
  },
  {
   "cell_type": "code",
   "execution_count": 182,
   "id": "24375a75",
   "metadata": {},
   "outputs": [
    {
     "name": "stdout",
     "output_type": "stream",
     "text": [
      "Enter date: 1989-02-24\n",
      "New date: 24-02-1989\n"
     ]
    }
   ],
   "source": [
    "#19,Write a Python program to convert a date of yyyy-mm-dd format to dd-mm-yyyy format.\n",
    "# input date in yyyy-mm-dd format\n",
    "date = input(\"Enter date: \")\n",
    "\n",
    "\n",
    "year, month, day = date.split(\"-\")\n",
    "\n",
    "\n",
    "new_date = \"-\".join([day, month, year])\n",
    "\n",
    "\n",
    "print(\"New date:\", new_date)"
   ]
  },
  {
   "cell_type": "code",
   "execution_count": 57,
   "id": "8ea1207d",
   "metadata": {},
   "outputs": [],
   "source": [
    "#20,Create a function in python to find all decimal numbers with a precision of 1 or 2 in a string. \n",
    "#The use of the re.compile() method is mandatory.\n",
    "\n",
    "import re\n",
    "\n",
    "def find_decimals(string):\n",
    "  \n",
    "  pattern = re.compile(r\"\\d+\\.\\d{1,2}\")\n",
    " \n",
    "  matches = pattern.findall(string)\n",
    "  return matches"
   ]
  },
  {
   "cell_type": "code",
   "execution_count": 58,
   "id": "9b89bb96",
   "metadata": {},
   "outputs": [
    {
     "name": "stdout",
     "output_type": "stream",
     "text": [
      "['20.99', '7.5']\n",
      "['65.54', '2.3']\n"
     ]
    }
   ],
   "source": [
    "string = \"The price of the dress $20.99 and the shipping fee is $7.5.\"\n",
    "print(find_decimals(string))\n",
    "\n",
    "\n",
    "string = \"The dog weighs 65.54 kg and is 2.3 feet tall.\"\n",
    "print(find_decimals(string))\n"
   ]
  },
  {
   "cell_type": "code",
   "execution_count": 27,
   "id": "510eebce",
   "metadata": {},
   "outputs": [
    {
     "name": "stdout",
     "output_type": "stream",
     "text": [
      "Number: 2, Position: 17\n",
      "Number: 4, Position: 18\n",
      "Number: 5, Position: 19\n",
      "Number: 0, Position: 20\n",
      "Number: 0, Position: 21\n",
      "Number: 1, Position: 22\n",
      "Number: 2, Position: 23\n",
      "Number: 3, Position: 24\n",
      "Number: 4, Position: 25\n"
     ]
    }
   ],
   "source": [
    "#21,- Write a Python program to separate and print the numbers and their position of a given string.\n",
    "\n",
    "\n",
    "def print_numbers_and_position(string):\n",
    " \n",
    "  numbers = []\n",
    "  \n",
    "  for i, char in enumerate(string):\n",
    "    \n",
    "    if char.isdigit():\n",
    "      numbers.append((char, i))\n",
    "\n",
    "  for number, position in numbers:\n",
    "    print(f\"Number: {number}, Position: {position}\")\n",
    "\n",
    "\n",
    "string = \"Barbadosisthebest245001234\"\n",
    "print_numbers_and_position(string)"
   ]
  },
  {
   "cell_type": "code",
   "execution_count": 52,
   "id": "c6e56fe8",
   "metadata": {},
   "outputs": [],
   "source": [
    "#22, Write a regular expression in python program to extract maximum/largest numeric value from a string.\n",
    "\n",
    "\n",
    "import re\n",
    "\n",
    "string = 'My marks in each semester are: 947, 896, 926, 524, 734, 950, 642'\n",
    "\n",
    "def extract_max_numeric_value(string):\n",
    "    pattern = r'\\d+'\n",
    "    numbers = re.findall(pattern, string)\n",
    "    max_num = max(map(int, numbers)) \n",
    "    return max_num\n",
    "\n",
    "\n"
   ]
  },
  {
   "cell_type": "code",
   "execution_count": 49,
   "id": "3c5ba819",
   "metadata": {},
   "outputs": [
    {
     "ename": "NameError",
     "evalue": "name 'numbers' is not defined",
     "output_type": "error",
     "traceback": [
      "\u001b[1;31m---------------------------------------------------------------------------\u001b[0m",
      "\u001b[1;31mNameError\u001b[0m                                 Traceback (most recent call last)",
      "Cell \u001b[1;32mIn[49], line 1\u001b[0m\n\u001b[1;32m----> 1\u001b[0m \u001b[38;5;28mprint\u001b[39m(\u001b[43mnumbers\u001b[49m)\n",
      "\u001b[1;31mNameError\u001b[0m: name 'numbers' is not defined"
     ]
    }
   ],
   "source": []
  },
  {
   "cell_type": "code",
   "execution_count": 39,
   "id": "89165635",
   "metadata": {},
   "outputs": [
    {
     "name": "stdout",
     "output_type": "stream",
     "text": [
      "Regular Expression Is An Important Topic In Python\n"
     ]
    }
   ],
   "source": [
    "#23, Create a function in python to insert spaces between words starting with capital letters.\n",
    "#Sample Text: “RegularExpressionIsAnImportantTopicInPython\"\n",
    "#Expected Output: Regular Expression Is An Important Topic In Python\n",
    "\n",
    "import re \n",
    "\n",
    "string = \"RegularExpressionIsAnImportantTopicInPython\"\n",
    "\n",
    "def capital_words_spaces(string):\n",
    "    return re.sub(r\"(\\w)([A-Z])\", r\"\\1 \\2\", string)\n",
    "                  \n",
    "print(capital_words_spaces(\"Regular Expression Is An Important Topic In Python\"))"
   ]
  },
  {
   "cell_type": "code",
   "execution_count": 199,
   "id": "9563f31e",
   "metadata": {},
   "outputs": [
    {
     "name": "stdout",
     "output_type": "stream",
     "text": [
      "['Today', 'Day']\n"
     ]
    }
   ],
   "source": [
    "#24, Create a Python regex to find sequences of one upper case letter followed by lower case letters\n",
    "\n",
    "import re\n",
    "string = \"Today is my Day\"\n",
    "matches = re.findall(r'[A-Z][a-z]+', string)\n",
    "print(matches)\n",
    "\n"
   ]
  },
  {
   "cell_type": "code",
   "execution_count": 36,
   "id": "5996e81c",
   "metadata": {},
   "outputs": [
    {
     "name": "stdout",
     "output_type": "stream",
     "text": [
      "Hello world\n"
     ]
    }
   ],
   "source": [
    "#25, Write a Python program to remove continuous duplicate words from Sentence using Regular Expression.\n",
    "#Sample Text: \"Hello hello world world\"\n",
    "#Expected Output: Hello hello world\n",
    "\n",
    "\n",
    "import re\n",
    "\n",
    "def remove_duplicates(sentence):\n",
    " \n",
    "  pattern = r\"\\b(\\w+)(?:\\W+\\1\\b)+\"\n",
    "  \n",
    "  result = re.sub(pattern, r\"\\1\", sentence, flags=re.I)\n",
    "  return result\n",
    "\n",
    "# Test the function\n",
    "sentence = \"Hello hello world world\"\n",
    "print(remove_duplicates(sentence))\n"
   ]
  },
  {
   "cell_type": "code",
   "execution_count": 3,
   "id": "6dd10542",
   "metadata": {},
   "outputs": [
    {
     "name": "stdout",
     "output_type": "stream",
     "text": [
      "Enter a string: My Dad turned 70 in 2021\n",
      "The string is valid.\n"
     ]
    }
   ],
   "source": [
    "#26, -  Write a python program using RegEx to accept string ending with alphanumeric character.\n",
    "\n",
    "import re\n",
    "\n",
    "pattern = r\".*[a-zA-Z0-9]$\"\n",
    "\n",
    "\n",
    "string = input(\"Enter a string: \")\n",
    "\n",
    "if re.match(pattern, string):\n",
    "    print(\"The string is valid.\")\n",
    "else:\n",
    "    print(\"The string is invalid.\")"
   ]
  },
  {
   "cell_type": "code",
   "execution_count": 4,
   "id": "53f8b824",
   "metadata": {},
   "outputs": [
    {
     "name": "stdout",
     "output_type": "stream",
     "text": [
      "['#Doltiwal', '#xyzabc', '#Demonetization']\n"
     ]
    }
   ],
   "source": [
    "#27, Write a python program using RegEx to extract the hashtags.\n",
    "#Sample Text:  \"\"\"RT @kapil_kausik: #Doltiwal I mean #xyzabc is \"hurt\" by #Demonetization as the same has rendered USELESS <ed><U+00A0><U+00BD><ed><U+00B1><U+0089> \"acquired funds\" No wo\"\"\"\n",
    "#Expected Output: ['#Doltiwal', '#xyzabc', '#Demonetization']\n",
    "\n",
    "import re\n",
    "\n",
    "string = \"\"\"RT @kapil_kausik: #Doltiwal I mean #xyzabc is \"hurt\" by #Demonetization as the same has rendered USELESS <ed><U+00A0><U+00BD><ed><U+00B1><U+0089> \"acquired funds\" No wo\"\"\"\n",
    "\n",
    "pattern = r\"#\\w+\"\n",
    "\n",
    "matches = re.findall(pattern, string)\n",
    "\n",
    "print(matches)\n"
   ]
  },
  {
   "cell_type": "code",
   "execution_count": 19,
   "id": "b9f74c5f",
   "metadata": {},
   "outputs": [
    {
     "name": "stdout",
     "output_type": "stream",
     "text": [
      "@Jags123456 Bharat band on 28??<ed><ed>Those who  are protesting #demonetization  are all different party leaders\n"
     ]
    }
   ],
   "source": [
    "#28, Write a python program using RegEx to remove <U+..> like symbols\n",
    "#Check the below sample text, there are strange symbols something of the sort <U+..> all over the place. You need to come up with a general Regex expression that will cover all such symbols.\n",
    "#Sample Text: \"@Jags123456 Bharat band on 28??<ed><U+00A0><U+00BD><ed><U+00B8><U+0082>Those who  are protesting #demonetization  are all different party leaders\"\n",
    "#Expected Output: @Jags123456 Bharat band on 28??<ed><ed>Those who  are protesting #demonetization  are all different party leaders\n",
    "\n",
    "\n",
    "import re\n",
    "\n",
    "string = \"@Jags123456 Bharat band on 28??<ed><U+00A0><U+00BD><ed><U+00B8><U+0082>Those who  are protesting #demonetization  are all different party leaders\"\n",
    "\n",
    "stringwith_symbols =\"@Jags123456 Bharat band on 28??<ed><U+00A0><U+00BD><ed><U+00B8><U+0082>Those who  are protesting #demonetization  are all different party leaders\"   \n",
    "new_string = re.sub(r\"<U\\+[0-9A-F]{4}>\", \"\", stringwith_symbols)\n",
    "print(new_string)\n",
    "\n",
    "\n"
   ]
  },
  {
   "cell_type": "code",
   "execution_count": 26,
   "id": "338680e1",
   "metadata": {},
   "outputs": [
    {
     "ename": "IndentationError",
     "evalue": "unexpected indent (3357829267.py, line 14)",
     "output_type": "error",
     "traceback": [
      "\u001b[1;36m  Cell \u001b[1;32mIn[26], line 14\u001b[1;36m\u001b[0m\n\u001b[1;33m    text = f.read()\u001b[0m\n\u001b[1;37m    ^\u001b[0m\n\u001b[1;31mIndentationError\u001b[0m\u001b[1;31m:\u001b[0m unexpected indent\n"
     ]
    }
   ],
   "source": [
    "#29, - Write a python program to extract dates from the text stored in the text file.\n",
    "#Sample Text: Ron was born on 12-09-1992 and he was admitted to school 15-12-1999.\n",
    "#Note- Store this sample text in the file and then extract dates\n",
    "\n",
    "\n",
    "import re\n",
    "\n",
    "f = open('text.txt')\n",
    "content = f.read()\n",
    "print(content)\n",
    "f.close()\n",
    "\n",
    "  \n",
    "    text = f.read()\n",
    "    pattern = r\"\\d{2}-\\d{2}-\\d{4}\"\n",
    "    \n",
    "    dates = re.findall(pattern, text)\n",
    "   \n",
    "    print(dates)\n",
    "\n",
    "    \n",
    "    \n",
    "   "
   ]
  },
  {
   "cell_type": "code",
   "execution_count": 7,
   "id": "0de9c81d",
   "metadata": {},
   "outputs": [
    {
     "name": "stdout",
     "output_type": "stream",
     "text": [
      " following example creates ArrayList a capacity elements. 4 elements added ArrayList ArrayList trimmed accordingly.\n"
     ]
    }
   ],
   "source": [
    "#30 Create a function in python to remove all words from a string of length between 2 and 4.\n",
    "#The use of the re.compile() method is mandatory.\n",
    "#Sample Text: \"The following example creates an ArrayList with a capacity of 50 elements. 4 elements are then added to the ArrayList and the ArrayList is trimmed accordingly.\"\n",
    "#Expected Output:  following example creates ArrayList a capacity elements. 4 elements added ArrayList ArrayList trimmed accordingly.\n",
    "\n",
    "import re\n",
    "\n",
    "string = \"The following example creates an ArrayList with a capacity of 50 elements. 4 elements are then added to the ArrayList and the ArrayList is trimmed accordingly.\"\n",
    "\n",
    "pattern_word = re.compile(r'\\W*\\b\\w{2,4}\\b')\n",
    "\n",
    "print(pattern_word.sub('', string))\n",
    "\n",
    "\n",
    "\n",
    "\n",
    "\n",
    "\n"
   ]
  },
  {
   "cell_type": "code",
   "execution_count": null,
   "id": "f14aa519",
   "metadata": {},
   "outputs": [],
   "source": []
  }
 ],
 "metadata": {
  "kernelspec": {
   "display_name": "Python 3 (ipykernel)",
   "language": "python",
   "name": "python3"
  },
  "language_info": {
   "codemirror_mode": {
    "name": "ipython",
    "version": 3
   },
   "file_extension": ".py",
   "mimetype": "text/x-python",
   "name": "python",
   "nbconvert_exporter": "python",
   "pygments_lexer": "ipython3",
   "version": "3.10.9"
  }
 },
 "nbformat": 4,
 "nbformat_minor": 5
}
